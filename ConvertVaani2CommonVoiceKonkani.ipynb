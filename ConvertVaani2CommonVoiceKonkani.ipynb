{
  "nbformat": 4,
  "nbformat_minor": 0,
  "metadata": {
    "colab": {
      "provenance": [],
      "authorship_tag": "ABX9TyOf9FErKTSGLNN87/O+bekA",
      "include_colab_link": true
    },
    "kernelspec": {
      "name": "python3",
      "display_name": "Python 3"
    },
    "language_info": {
      "name": "python"
    }
  },
  "cells": [
    {
      "cell_type": "markdown",
      "metadata": {
        "id": "view-in-github",
        "colab_type": "text"
      },
      "source": [
        "<a href=\"https://colab.research.google.com/github/Jpisnice/.github/blob/main/ConvertVaani2CommonVoiceKonkani.ipynb\" target=\"_parent\"><img src=\"https://colab.research.google.com/assets/colab-badge.svg\" alt=\"Open In Colab\"/></a>"
      ]
    },
    {
      "cell_type": "markdown",
      "source": [
        "##Clone the repo"
      ],
      "metadata": {
        "id": "CarTOwOJy-T6"
      }
    },
    {
      "cell_type": "code",
      "execution_count": null,
      "metadata": {
        "colab": {
          "base_uri": "https://localhost:8080/"
        },
        "id": "xMUbd73ryydM",
        "outputId": "5a04c6e5-1bf6-4c5e-8cd9-ff37fa150dcd"
      },
      "outputs": [
        {
          "output_type": "stream",
          "name": "stdout",
          "text": [
            "fatal: destination path 'neutts-air' already exists and is not an empty directory.\n"
          ]
        }
      ],
      "source": [
        "!git clone https://github.com/neuphonic/neutts-air.git\n"
      ]
    },
    {
      "cell_type": "markdown",
      "source": [
        "Make the env properly using uv"
      ],
      "metadata": {
        "id": "Bm7I3Hdcy6BL"
      }
    },
    {
      "cell_type": "code",
      "source": [
        "!cd ./neutts-air && ls"
      ],
      "metadata": {
        "colab": {
          "base_uri": "https://localhost:8080/"
        },
        "id": "w8bx2MKvzmtP",
        "outputId": "95324115-342c-43ac-cc79-2f329ed9be06"
      },
      "execution_count": null,
      "outputs": [
        {
          "output_type": "stream",
          "name": "stdout",
          "text": [
            "examples  LICENSE  neuttsair  README.md  requirements.txt  samples  TRAINING.md\n"
          ]
        }
      ]
    }
  ]
}